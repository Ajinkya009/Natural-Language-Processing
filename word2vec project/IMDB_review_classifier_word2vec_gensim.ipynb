{
 "cells": [
  {
   "cell_type": "markdown",
   "metadata": {},
   "source": [
    "##                                                                 Import required libraries"
   ]
  },
  {
   "cell_type": "code",
   "execution_count": 1,
   "metadata": {
    "collapsed": true
   },
   "outputs": [],
   "source": [
    "import pandas as pd\n",
    "import numpy as np\n",
    "import nltk\n",
    "import seaborn as sns\n",
    "import matplotlib.pyplot as plt\n",
    "import re\n",
    "from nltk.corpus import stopwords"
   ]
  },
  {
   "cell_type": "markdown",
   "metadata": {},
   "source": [
    "## Read data"
   ]
  },
  {
   "cell_type": "code",
   "execution_count": 2,
   "metadata": {
    "collapsed": true
   },
   "outputs": [],
   "source": [
    "train = pd.read_csv('labeledTrainData.tsv',delimiter='\\t',header=0,quoting=3)\n",
    "test = pd.read_csv( \"testData.tsv\", header=0, delimiter=\"\\t\", quoting=3 )\n",
    "unlabeled_train = pd.read_csv( \"unlabeledTrainData.tsv\", header=0, delimiter=\"\\t\", quoting=3 )"
   ]
  },
  {
   "cell_type": "code",
   "execution_count": 3,
   "metadata": {},
   "outputs": [
    {
     "name": "stdout",
     "output_type": "stream",
     "text": [
      "100000\n"
     ]
    }
   ],
   "source": [
    "print(train.review.size+test.review.size+unlabeled_train.review.size)"
   ]
  },
  {
   "cell_type": "markdown",
   "metadata": {},
   "source": [
    "## String cleaning"
   ]
  },
  {
   "cell_type": "code",
   "execution_count": 7,
   "metadata": {},
   "outputs": [],
   "source": [
    "from bs4 import BeautifulSoup\n",
    "def review_to_wordlist(review,remove_stopwords = False):\n",
    "    review_text = BeautifulSoup(review,'html5lib').get_text()\n",
    "    review_text = re.sub(\"[^A-Za-z]\",\" \",review_text)\n",
    "    words = review_text.lower().split()\n",
    "    if remove_stopwords:\n",
    "        stops = set(stopwords.words('english'))\n",
    "        words = [w for w in words if not w in stops]\n",
    "    return words"
   ]
  },
  {
   "cell_type": "markdown",
   "metadata": {},
   "source": [
    "## Convert paragraphs to single sentences"
   ]
  },
  {
   "cell_type": "code",
   "execution_count": 11,
   "metadata": {},
   "outputs": [],
   "source": [
    "import nltk.data\n",
    "tokenizer = nltk.data.load('tokenizers/punkt/english.pickle')\n",
    "def review_to_sentences(review, tokenizer, remove_stopwords = False):\n",
    "    raw_sentences = tokenizer.tokenize(review.strip())\n",
    "    sentences = []\n",
    "    for raw_sentence in raw_sentences:\n",
    "        if len(raw_sentence)>0:\n",
    "            sentences.append(review_to_wordlist(raw_sentence, remove_stopwords))\n",
    "    return sentences"
   ]
  },
  {
   "cell_type": "markdown",
   "metadata": {},
   "source": [
    "## Prepare data for word2vec"
   ]
  },
  {
   "cell_type": "code",
   "execution_count": 12,
   "metadata": {},
   "outputs": [
    {
     "name": "stdout",
     "output_type": "stream",
     "text": [
      "parsing sentences from training data set..\n"
     ]
    },
    {
     "name": "stderr",
     "output_type": "stream",
     "text": [
      "c:\\python36\\lib\\site-packages\\bs4\\__init__.py:219: UserWarning: \"b'.'\" looks like a filename, not markup. You should probably open this file and pass the filehandle into Beautiful Soup.\n",
      "  ' Beautiful Soup.' % markup)\n",
      "c:\\python36\\lib\\site-packages\\bs4\\__init__.py:219: UserWarning: \"b'...'\" looks like a filename, not markup. You should probably open this file and pass the filehandle into Beautiful Soup.\n",
      "  ' Beautiful Soup.' % markup)\n",
      "c:\\python36\\lib\\site-packages\\bs4\\__init__.py:282: UserWarning: \"http://www.happierabroad.com\"\" looks like a URL. Beautiful Soup is not an HTTP client. You should probably use an HTTP client like requests to get the document behind the URL, and feed that document to Beautiful Soup.\n",
      "  ' that document to Beautiful Soup.' % decoded_markup\n"
     ]
    },
    {
     "name": "stdout",
     "output_type": "stream",
     "text": [
      "parsing sentences from unlabeled data set..\n"
     ]
    },
    {
     "name": "stderr",
     "output_type": "stream",
     "text": [
      "c:\\python36\\lib\\site-packages\\bs4\\__init__.py:282: UserWarning: \"http://www.archive.org/details/LovefromaStranger\"\" looks like a URL. Beautiful Soup is not an HTTP client. You should probably use an HTTP client like requests to get the document behind the URL, and feed that document to Beautiful Soup.\n",
      "  ' that document to Beautiful Soup.' % decoded_markup\n",
      "c:\\python36\\lib\\site-packages\\bs4\\__init__.py:282: UserWarning: \"http://www.loosechangeguide.com/LooseChangeGuide.html\"\" looks like a URL. Beautiful Soup is not an HTTP client. You should probably use an HTTP client like requests to get the document behind the URL, and feed that document to Beautiful Soup.\n",
      "  ' that document to Beautiful Soup.' % decoded_markup\n",
      "c:\\python36\\lib\\site-packages\\bs4\\__init__.py:219: UserWarning: \"b'... ...'\" looks like a filename, not markup. You should probably open this file and pass the filehandle into Beautiful Soup.\n",
      "  ' Beautiful Soup.' % markup)\n",
      "c:\\python36\\lib\\site-packages\\bs4\\__init__.py:219: UserWarning: \"b'....'\" looks like a filename, not markup. You should probably open this file and pass the filehandle into Beautiful Soup.\n",
      "  ' Beautiful Soup.' % markup)\n",
      "c:\\python36\\lib\\site-packages\\bs4\\__init__.py:282: UserWarning: \"http://www.msnbc.msn.com/id/4972055/site/newsweek/\"\" looks like a URL. Beautiful Soup is not an HTTP client. You should probably use an HTTP client like requests to get the document behind the URL, and feed that document to Beautiful Soup.\n",
      "  ' that document to Beautiful Soup.' % decoded_markup\n",
      "c:\\python36\\lib\\site-packages\\bs4\\__init__.py:219: UserWarning: \"b'..'\" looks like a filename, not markup. You should probably open this file and pass the filehandle into Beautiful Soup.\n",
      "  ' Beautiful Soup.' % markup)\n",
      "c:\\python36\\lib\\site-packages\\bs4\\__init__.py:282: UserWarning: \"http://www.youtube.com/watch?v=a0KSqelmgN8\"\" looks like a URL. Beautiful Soup is not an HTTP client. You should probably use an HTTP client like requests to get the document behind the URL, and feed that document to Beautiful Soup.\n",
      "  ' that document to Beautiful Soup.' % decoded_markup\n",
      "c:\\python36\\lib\\site-packages\\bs4\\__init__.py:219: UserWarning: \"b'.. .'\" looks like a filename, not markup. You should probably open this file and pass the filehandle into Beautiful Soup.\n",
      "  ' Beautiful Soup.' % markup)\n",
      "c:\\python36\\lib\\site-packages\\bs4\\__init__.py:282: UserWarning: \"http://jake-weird.blogspot.com/2007/08/beneath.html\"\" looks like a URL. Beautiful Soup is not an HTTP client. You should probably use an HTTP client like requests to get the document behind the URL, and feed that document to Beautiful Soup.\n",
      "  ' that document to Beautiful Soup.' % decoded_markup\n"
     ]
    }
   ],
   "source": [
    "sentences = []\n",
    "print('parsing sentences from training data set..')\n",
    "for review in train.review:\n",
    "    sentences += review_to_sentences(review, tokenizer)\n",
    "print('parsing sentences from unlabeled data set..')\n",
    "for review in unlabeled_train.review:\n",
    "    sentences += review_to_sentences(review, tokenizer)"
   ]
  },
  {
   "cell_type": "markdown",
   "metadata": {},
   "source": [
    "#### A minor detail to note is the difference between the \"+=\" and \"append\" when it comes to Python lists. In many applications the two are interchangeable, but here they are not. If you are appending a list of lists to another list of lists, \"append\" will only append the first list; you need to use \"+=\" in order to join all of the lists at once."
   ]
  },
  {
   "cell_type": "markdown",
   "metadata": {},
   "source": [
    "## Train and save model"
   ]
  },
  {
   "cell_type": "code",
   "execution_count": 27,
   "metadata": {},
   "outputs": [
    {
     "name": "stderr",
     "output_type": "stream",
     "text": [
      "2017-09-16 19:56:19,560 : INFO : collecting all words and their counts\n",
      "2017-09-16 19:56:19,567 : INFO : PROGRESS: at sentence #0, processed 0 words, keeping 0 word types\n",
      "2017-09-16 19:56:19,670 : INFO : PROGRESS: at sentence #10000, processed 225803 words, keeping 17776 word types\n",
      "2017-09-16 19:56:19,755 : INFO : PROGRESS: at sentence #20000, processed 451892 words, keeping 24948 word types\n"
     ]
    },
    {
     "name": "stdout",
     "output_type": "stream",
     "text": [
      "training model..\n"
     ]
    },
    {
     "name": "stderr",
     "output_type": "stream",
     "text": [
      "2017-09-16 19:56:19,855 : INFO : PROGRESS: at sentence #30000, processed 671315 words, keeping 30034 word types\n",
      "2017-09-16 19:56:19,952 : INFO : PROGRESS: at sentence #40000, processed 897815 words, keeping 34348 word types\n",
      "2017-09-16 19:56:20,038 : INFO : PROGRESS: at sentence #50000, processed 1116963 words, keeping 37761 word types\n",
      "2017-09-16 19:56:20,127 : INFO : PROGRESS: at sentence #60000, processed 1338404 words, keeping 40723 word types\n",
      "2017-09-16 19:56:20,226 : INFO : PROGRESS: at sentence #70000, processed 1561580 words, keeping 43333 word types\n",
      "2017-09-16 19:56:20,317 : INFO : PROGRESS: at sentence #80000, processed 1780887 words, keeping 45714 word types\n",
      "2017-09-16 19:56:20,404 : INFO : PROGRESS: at sentence #90000, processed 2004996 words, keeping 48135 word types\n",
      "2017-09-16 19:56:20,495 : INFO : PROGRESS: at sentence #100000, processed 2226967 words, keeping 50207 word types\n",
      "2017-09-16 19:56:20,582 : INFO : PROGRESS: at sentence #110000, processed 2446581 words, keeping 52081 word types\n",
      "2017-09-16 19:56:20,675 : INFO : PROGRESS: at sentence #120000, processed 2668776 words, keeping 54119 word types\n",
      "2017-09-16 19:56:20,768 : INFO : PROGRESS: at sentence #130000, processed 2894304 words, keeping 55847 word types\n",
      "2017-09-16 19:56:20,862 : INFO : PROGRESS: at sentence #140000, processed 3107006 words, keeping 57346 word types\n",
      "2017-09-16 19:56:20,953 : INFO : PROGRESS: at sentence #150000, processed 3332628 words, keeping 59055 word types\n",
      "2017-09-16 19:56:21,043 : INFO : PROGRESS: at sentence #160000, processed 3555316 words, keeping 60617 word types\n",
      "2017-09-16 19:56:21,136 : INFO : PROGRESS: at sentence #170000, processed 3778656 words, keeping 62077 word types\n",
      "2017-09-16 19:56:21,228 : INFO : PROGRESS: at sentence #180000, processed 3999237 words, keeping 63496 word types\n",
      "2017-09-16 19:56:21,320 : INFO : PROGRESS: at sentence #190000, processed 4224450 words, keeping 64794 word types\n",
      "2017-09-16 19:56:21,416 : INFO : PROGRESS: at sentence #200000, processed 4448604 words, keeping 66087 word types\n",
      "2017-09-16 19:56:21,506 : INFO : PROGRESS: at sentence #210000, processed 4669968 words, keeping 67390 word types\n",
      "2017-09-16 19:56:21,598 : INFO : PROGRESS: at sentence #220000, processed 4894969 words, keeping 68697 word types\n",
      "2017-09-16 19:56:21,683 : INFO : PROGRESS: at sentence #230000, processed 5117546 words, keeping 69958 word types\n",
      "2017-09-16 19:56:21,771 : INFO : PROGRESS: at sentence #240000, processed 5345051 words, keeping 71167 word types\n",
      "2017-09-16 19:56:21,858 : INFO : PROGRESS: at sentence #250000, processed 5559166 words, keeping 72351 word types\n",
      "2017-09-16 19:56:21,954 : INFO : PROGRESS: at sentence #260000, processed 5779147 words, keeping 73478 word types\n",
      "2017-09-16 19:56:22,039 : INFO : PROGRESS: at sentence #270000, processed 6000436 words, keeping 74767 word types\n",
      "2017-09-16 19:56:22,136 : INFO : PROGRESS: at sentence #280000, processed 6226315 words, keeping 76369 word types\n",
      "2017-09-16 19:56:22,228 : INFO : PROGRESS: at sentence #290000, processed 6449475 words, keeping 77839 word types\n",
      "2017-09-16 19:56:22,317 : INFO : PROGRESS: at sentence #300000, processed 6674078 words, keeping 79171 word types\n",
      "2017-09-16 19:56:22,407 : INFO : PROGRESS: at sentence #310000, processed 6899392 words, keeping 80480 word types\n",
      "2017-09-16 19:56:22,507 : INFO : PROGRESS: at sentence #320000, processed 7124279 words, keeping 81808 word types\n",
      "2017-09-16 19:56:22,602 : INFO : PROGRESS: at sentence #330000, processed 7346022 words, keeping 83030 word types\n",
      "2017-09-16 19:56:22,696 : INFO : PROGRESS: at sentence #340000, processed 7575534 words, keeping 84280 word types\n",
      "2017-09-16 19:56:22,788 : INFO : PROGRESS: at sentence #350000, processed 7798804 words, keeping 85425 word types\n",
      "2017-09-16 19:56:22,878 : INFO : PROGRESS: at sentence #360000, processed 8019467 words, keeping 86596 word types\n",
      "2017-09-16 19:56:22,983 : INFO : PROGRESS: at sentence #370000, processed 8246659 words, keeping 87708 word types\n",
      "2017-09-16 19:56:23,077 : INFO : PROGRESS: at sentence #380000, processed 8471806 words, keeping 88878 word types\n",
      "2017-09-16 19:56:23,178 : INFO : PROGRESS: at sentence #390000, processed 8701556 words, keeping 89907 word types\n",
      "2017-09-16 19:56:23,269 : INFO : PROGRESS: at sentence #400000, processed 8924505 words, keeping 90916 word types\n",
      "2017-09-16 19:56:23,358 : INFO : PROGRESS: at sentence #410000, processed 9145855 words, keeping 91880 word types\n",
      "2017-09-16 19:56:23,453 : INFO : PROGRESS: at sentence #420000, processed 9366935 words, keeping 92912 word types\n",
      "2017-09-16 19:56:23,550 : INFO : PROGRESS: at sentence #430000, processed 9594472 words, keeping 93932 word types\n",
      "2017-09-16 19:56:23,644 : INFO : PROGRESS: at sentence #440000, processed 9821225 words, keeping 94906 word types\n",
      "2017-09-16 19:56:23,732 : INFO : PROGRESS: at sentence #450000, processed 10044987 words, keeping 96036 word types\n",
      "2017-09-16 19:56:23,825 : INFO : PROGRESS: at sentence #460000, processed 10277747 words, keeping 97088 word types\n",
      "2017-09-16 19:56:23,922 : INFO : PROGRESS: at sentence #470000, processed 10505672 words, keeping 97933 word types\n",
      "2017-09-16 19:56:24,020 : INFO : PROGRESS: at sentence #480000, processed 10726056 words, keeping 98862 word types\n",
      "2017-09-16 19:56:24,117 : INFO : PROGRESS: at sentence #490000, processed 10952800 words, keeping 99871 word types\n",
      "2017-09-16 19:56:24,210 : INFO : PROGRESS: at sentence #500000, processed 11174456 words, keeping 100765 word types\n",
      "2017-09-16 19:56:24,302 : INFO : PROGRESS: at sentence #510000, processed 11399731 words, keeping 101699 word types\n",
      "2017-09-16 19:56:24,395 : INFO : PROGRESS: at sentence #520000, processed 11623082 words, keeping 102598 word types\n",
      "2017-09-16 19:56:24,489 : INFO : PROGRESS: at sentence #530000, processed 11847480 words, keeping 103400 word types\n",
      "2017-09-16 19:56:24,584 : INFO : PROGRESS: at sentence #540000, processed 12072095 words, keeping 104265 word types\n",
      "2017-09-16 19:56:24,680 : INFO : PROGRESS: at sentence #550000, processed 12297646 words, keeping 105133 word types\n",
      "2017-09-16 19:56:24,771 : INFO : PROGRESS: at sentence #560000, processed 12518936 words, keeping 105997 word types\n",
      "2017-09-16 19:56:24,865 : INFO : PROGRESS: at sentence #570000, processed 12748083 words, keeping 106787 word types\n",
      "2017-09-16 19:56:24,960 : INFO : PROGRESS: at sentence #580000, processed 12969579 words, keeping 107665 word types\n",
      "2017-09-16 19:56:25,057 : INFO : PROGRESS: at sentence #590000, processed 13195104 words, keeping 108501 word types\n",
      "2017-09-16 19:56:25,158 : INFO : PROGRESS: at sentence #600000, processed 13417302 words, keeping 109218 word types\n",
      "2017-09-16 19:56:25,256 : INFO : PROGRESS: at sentence #610000, processed 13638325 words, keeping 110092 word types\n",
      "2017-09-16 19:56:25,350 : INFO : PROGRESS: at sentence #620000, processed 13864650 words, keeping 110837 word types\n",
      "2017-09-16 19:56:25,444 : INFO : PROGRESS: at sentence #630000, processed 14088936 words, keeping 111610 word types\n",
      "2017-09-16 19:56:25,534 : INFO : PROGRESS: at sentence #640000, processed 14309719 words, keeping 112416 word types\n",
      "2017-09-16 19:56:25,627 : INFO : PROGRESS: at sentence #650000, processed 14535475 words, keeping 113196 word types\n",
      "2017-09-16 19:56:25,718 : INFO : PROGRESS: at sentence #660000, processed 14758265 words, keeping 113945 word types\n",
      "2017-09-16 19:56:25,813 : INFO : PROGRESS: at sentence #670000, processed 14981658 words, keeping 114643 word types\n",
      "2017-09-16 19:56:25,912 : INFO : PROGRESS: at sentence #680000, processed 15206490 words, keeping 115354 word types\n",
      "2017-09-16 19:56:26,008 : INFO : PROGRESS: at sentence #690000, processed 15428683 words, keeping 116131 word types\n",
      "2017-09-16 19:56:26,103 : INFO : PROGRESS: at sentence #700000, processed 15657389 words, keeping 116943 word types\n",
      "2017-09-16 19:56:26,200 : INFO : PROGRESS: at sentence #710000, processed 15880378 words, keeping 117596 word types\n",
      "2017-09-16 19:56:26,293 : INFO : PROGRESS: at sentence #720000, processed 16105665 words, keeping 118221 word types\n",
      "2017-09-16 19:56:26,388 : INFO : PROGRESS: at sentence #730000, processed 16332046 words, keeping 118954 word types\n",
      "2017-09-16 19:56:26,488 : INFO : PROGRESS: at sentence #740000, processed 16553079 words, keeping 119668 word types\n"
     ]
    },
    {
     "name": "stderr",
     "output_type": "stream",
     "text": [
      "2017-09-16 19:56:26,577 : INFO : PROGRESS: at sentence #750000, processed 16771406 words, keeping 120295 word types\n",
      "2017-09-16 19:56:26,671 : INFO : PROGRESS: at sentence #760000, processed 16990810 words, keeping 120930 word types\n",
      "2017-09-16 19:56:26,768 : INFO : PROGRESS: at sentence #770000, processed 17217947 words, keeping 121703 word types\n",
      "2017-09-16 19:56:26,865 : INFO : PROGRESS: at sentence #780000, processed 17448093 words, keeping 122402 word types\n",
      "2017-09-16 19:56:26,962 : INFO : PROGRESS: at sentence #790000, processed 17675169 words, keeping 123066 word types\n",
      "2017-09-16 19:56:27,023 : INFO : collected 123504 word types from a corpus of 17798270 raw words and 795538 sentences\n",
      "2017-09-16 19:56:27,025 : INFO : Loading a fresh vocabulary\n",
      "2017-09-16 19:56:27,166 : INFO : min_count=40 retains 16490 unique words (13% of original 123504, drops 107014)\n",
      "2017-09-16 19:56:27,167 : INFO : min_count=40 leaves 17239125 word corpus (96% of original 17798270, drops 559145)\n",
      "2017-09-16 19:56:27,275 : INFO : deleting the raw counts dictionary of 123504 items\n",
      "2017-09-16 19:56:27,282 : INFO : sample=0.001 downsamples 48 most-common words\n",
      "2017-09-16 19:56:27,284 : INFO : downsampling leaves estimated 12749798 word corpus (74.0% of prior 17239125)\n",
      "2017-09-16 19:56:27,287 : INFO : estimated required memory for 16490 words and 300 dimensions: 47821000 bytes\n",
      "2017-09-16 19:56:27,400 : INFO : resetting layer weights\n",
      "2017-09-16 19:56:27,909 : INFO : training model with 4 workers on 16490 vocabulary and 300 features, using sg=0 hs=0 sample=0.001 negative=5 window=10\n",
      "2017-09-16 19:56:28,955 : INFO : PROGRESS: at 0.47% examples, 298473 words/s, in_qsize 7, out_qsize 0\n",
      "2017-09-16 19:56:29,960 : INFO : PROGRESS: at 0.96% examples, 305858 words/s, in_qsize 8, out_qsize 0\n",
      "2017-09-16 19:56:30,966 : INFO : PROGRESS: at 1.46% examples, 307901 words/s, in_qsize 7, out_qsize 0\n",
      "2017-09-16 19:56:31,994 : INFO : PROGRESS: at 1.96% examples, 307451 words/s, in_qsize 8, out_qsize 0\n",
      "2017-09-16 19:56:33,008 : INFO : PROGRESS: at 2.46% examples, 308128 words/s, in_qsize 7, out_qsize 0\n",
      "2017-09-16 19:56:34,012 : INFO : PROGRESS: at 2.88% examples, 300854 words/s, in_qsize 8, out_qsize 0\n",
      "2017-09-16 19:56:35,012 : INFO : PROGRESS: at 3.31% examples, 296774 words/s, in_qsize 7, out_qsize 0\n",
      "2017-09-16 19:56:36,022 : INFO : PROGRESS: at 3.74% examples, 293229 words/s, in_qsize 8, out_qsize 0\n",
      "2017-09-16 19:56:37,044 : INFO : PROGRESS: at 4.24% examples, 294903 words/s, in_qsize 7, out_qsize 0\n",
      "2017-09-16 19:56:38,064 : INFO : PROGRESS: at 4.72% examples, 295566 words/s, in_qsize 6, out_qsize 2\n",
      "2017-09-16 19:56:39,085 : INFO : PROGRESS: at 5.21% examples, 296715 words/s, in_qsize 7, out_qsize 0\n",
      "2017-09-16 19:56:40,122 : INFO : PROGRESS: at 5.72% examples, 297832 words/s, in_qsize 8, out_qsize 0\n",
      "2017-09-16 19:56:41,130 : INFO : PROGRESS: at 6.20% examples, 297805 words/s, in_qsize 8, out_qsize 1\n",
      "2017-09-16 19:56:42,157 : INFO : PROGRESS: at 6.71% examples, 298881 words/s, in_qsize 8, out_qsize 0\n",
      "2017-09-16 19:56:43,174 : INFO : PROGRESS: at 7.19% examples, 299136 words/s, in_qsize 8, out_qsize 0\n",
      "2017-09-16 19:56:44,202 : INFO : PROGRESS: at 7.68% examples, 299579 words/s, in_qsize 6, out_qsize 1\n",
      "2017-09-16 19:56:45,212 : INFO : PROGRESS: at 8.15% examples, 299440 words/s, in_qsize 7, out_qsize 1\n",
      "2017-09-16 19:56:46,237 : INFO : PROGRESS: at 8.65% examples, 300253 words/s, in_qsize 7, out_qsize 0\n",
      "2017-09-16 19:56:47,242 : INFO : PROGRESS: at 9.13% examples, 300569 words/s, in_qsize 7, out_qsize 0\n",
      "2017-09-16 19:56:48,245 : INFO : PROGRESS: at 9.61% examples, 300848 words/s, in_qsize 8, out_qsize 0\n",
      "2017-09-16 19:56:49,269 : INFO : PROGRESS: at 10.04% examples, 299488 words/s, in_qsize 7, out_qsize 0\n",
      "2017-09-16 19:56:50,313 : INFO : PROGRESS: at 10.52% examples, 298943 words/s, in_qsize 7, out_qsize 0\n",
      "2017-09-16 19:56:51,338 : INFO : PROGRESS: at 10.94% examples, 297453 words/s, in_qsize 7, out_qsize 0\n",
      "2017-09-16 19:56:52,362 : INFO : PROGRESS: at 11.39% examples, 296684 words/s, in_qsize 8, out_qsize 0\n",
      "2017-09-16 19:56:53,386 : INFO : PROGRESS: at 11.86% examples, 296828 words/s, in_qsize 7, out_qsize 0\n",
      "2017-09-16 19:56:54,391 : INFO : PROGRESS: at 12.33% examples, 296916 words/s, in_qsize 7, out_qsize 0\n",
      "2017-09-16 19:56:55,437 : INFO : PROGRESS: at 12.80% examples, 296540 words/s, in_qsize 8, out_qsize 0\n",
      "2017-09-16 19:56:56,458 : INFO : PROGRESS: at 13.29% examples, 296961 words/s, in_qsize 7, out_qsize 0\n",
      "2017-09-16 19:56:57,479 : INFO : PROGRESS: at 13.78% examples, 297104 words/s, in_qsize 6, out_qsize 1\n",
      "2017-09-16 19:56:58,493 : INFO : PROGRESS: at 14.27% examples, 297552 words/s, in_qsize 7, out_qsize 1\n",
      "2017-09-16 19:56:59,547 : INFO : PROGRESS: at 14.77% examples, 297821 words/s, in_qsize 7, out_qsize 0\n",
      "2017-09-16 19:57:00,573 : INFO : PROGRESS: at 15.27% examples, 298088 words/s, in_qsize 7, out_qsize 0\n",
      "2017-09-16 19:57:01,605 : INFO : PROGRESS: at 15.76% examples, 298296 words/s, in_qsize 7, out_qsize 0\n",
      "2017-09-16 19:57:02,613 : INFO : PROGRESS: at 16.24% examples, 298478 words/s, in_qsize 8, out_qsize 0\n",
      "2017-09-16 19:57:03,626 : INFO : PROGRESS: at 16.72% examples, 298636 words/s, in_qsize 7, out_qsize 1\n",
      "2017-09-16 19:57:04,664 : INFO : PROGRESS: at 17.23% examples, 298965 words/s, in_qsize 8, out_qsize 0\n",
      "2017-09-16 19:57:05,671 : INFO : PROGRESS: at 17.70% examples, 299129 words/s, in_qsize 7, out_qsize 0\n",
      "2017-09-16 19:57:06,685 : INFO : PROGRESS: at 18.19% examples, 299239 words/s, in_qsize 8, out_qsize 0\n",
      "2017-09-16 19:57:07,689 : INFO : PROGRESS: at 18.67% examples, 299412 words/s, in_qsize 7, out_qsize 0\n",
      "2017-09-16 19:57:08,694 : INFO : PROGRESS: at 19.16% examples, 299580 words/s, in_qsize 8, out_qsize 0\n",
      "2017-09-16 19:57:09,707 : INFO : PROGRESS: at 19.65% examples, 299850 words/s, in_qsize 8, out_qsize 0\n",
      "2017-09-16 19:57:10,720 : INFO : PROGRESS: at 20.13% examples, 300110 words/s, in_qsize 8, out_qsize 0\n",
      "2017-09-16 19:57:11,726 : INFO : PROGRESS: at 20.62% examples, 300240 words/s, in_qsize 8, out_qsize 1\n",
      "2017-09-16 19:57:12,763 : INFO : PROGRESS: at 21.11% examples, 300312 words/s, in_qsize 7, out_qsize 1\n",
      "2017-09-16 19:57:13,775 : INFO : PROGRESS: at 21.62% examples, 300687 words/s, in_qsize 8, out_qsize 0\n",
      "2017-09-16 19:57:14,791 : INFO : PROGRESS: at 22.11% examples, 300743 words/s, in_qsize 7, out_qsize 0\n",
      "2017-09-16 19:57:15,799 : INFO : PROGRESS: at 22.61% examples, 300990 words/s, in_qsize 8, out_qsize 0\n",
      "2017-09-16 19:57:16,807 : INFO : PROGRESS: at 23.08% examples, 300928 words/s, in_qsize 7, out_qsize 0\n",
      "2017-09-16 19:57:17,819 : INFO : PROGRESS: at 23.58% examples, 301130 words/s, in_qsize 8, out_qsize 0\n",
      "2017-09-16 19:57:18,823 : INFO : PROGRESS: at 24.07% examples, 301228 words/s, in_qsize 7, out_qsize 0\n",
      "2017-09-16 19:57:19,845 : INFO : PROGRESS: at 24.56% examples, 301364 words/s, in_qsize 7, out_qsize 0\n",
      "2017-09-16 19:57:20,862 : INFO : PROGRESS: at 24.97% examples, 300444 words/s, in_qsize 7, out_qsize 2\n",
      "2017-09-16 19:57:21,873 : INFO : PROGRESS: at 25.44% examples, 300365 words/s, in_qsize 4, out_qsize 0\n",
      "2017-09-16 19:57:22,896 : INFO : PROGRESS: at 25.92% examples, 300369 words/s, in_qsize 7, out_qsize 0\n",
      "2017-09-16 19:57:23,943 : INFO : PROGRESS: at 26.44% examples, 300494 words/s, in_qsize 8, out_qsize 0\n",
      "2017-09-16 19:57:24,967 : INFO : PROGRESS: at 26.93% examples, 300608 words/s, in_qsize 8, out_qsize 1\n",
      "2017-09-16 19:57:26,005 : INFO : PROGRESS: at 27.43% examples, 300781 words/s, in_qsize 8, out_qsize 0\n",
      "2017-09-16 19:57:27,026 : INFO : PROGRESS: at 27.89% examples, 300433 words/s, in_qsize 8, out_qsize 0\n",
      "2017-09-16 19:57:28,028 : INFO : PROGRESS: at 28.36% examples, 300538 words/s, in_qsize 6, out_qsize 0\n",
      "2017-09-16 19:57:29,031 : INFO : PROGRESS: at 28.83% examples, 300532 words/s, in_qsize 8, out_qsize 0\n",
      "2017-09-16 19:57:30,046 : INFO : PROGRESS: at 29.32% examples, 300681 words/s, in_qsize 8, out_qsize 1\n",
      "2017-09-16 19:57:31,058 : INFO : PROGRESS: at 29.80% examples, 300741 words/s, in_qsize 8, out_qsize 0\n",
      "2017-09-16 19:57:32,077 : INFO : PROGRESS: at 30.29% examples, 300877 words/s, in_qsize 7, out_qsize 0\n",
      "2017-09-16 19:57:33,105 : INFO : PROGRESS: at 30.78% examples, 300844 words/s, in_qsize 7, out_qsize 0\n",
      "2017-09-16 19:57:34,116 : INFO : PROGRESS: at 31.27% examples, 300998 words/s, in_qsize 8, out_qsize 0\n"
     ]
    },
    {
     "name": "stderr",
     "output_type": "stream",
     "text": [
      "2017-09-16 19:57:35,121 : INFO : PROGRESS: at 31.73% examples, 300966 words/s, in_qsize 6, out_qsize 1\n",
      "2017-09-16 19:57:36,167 : INFO : PROGRESS: at 32.24% examples, 301174 words/s, in_qsize 6, out_qsize 1\n",
      "2017-09-16 19:57:37,175 : INFO : PROGRESS: at 32.72% examples, 301229 words/s, in_qsize 7, out_qsize 0\n",
      "2017-09-16 19:57:38,199 : INFO : PROGRESS: at 33.22% examples, 301424 words/s, in_qsize 7, out_qsize 0\n",
      "2017-09-16 19:57:39,224 : INFO : PROGRESS: at 33.72% examples, 301506 words/s, in_qsize 8, out_qsize 1\n",
      "2017-09-16 19:57:40,275 : INFO : PROGRESS: at 34.23% examples, 301674 words/s, in_qsize 7, out_qsize 0\n",
      "2017-09-16 19:57:41,299 : INFO : PROGRESS: at 34.72% examples, 301761 words/s, in_qsize 7, out_qsize 0\n",
      "2017-09-16 19:57:42,315 : INFO : PROGRESS: at 35.23% examples, 301963 words/s, in_qsize 8, out_qsize 0\n",
      "2017-09-16 19:57:43,329 : INFO : PROGRESS: at 35.71% examples, 301983 words/s, in_qsize 8, out_qsize 0\n",
      "2017-09-16 19:57:44,335 : INFO : PROGRESS: at 36.21% examples, 302117 words/s, in_qsize 8, out_qsize 0\n",
      "2017-09-16 19:57:45,340 : INFO : PROGRESS: at 36.70% examples, 302257 words/s, in_qsize 8, out_qsize 0\n",
      "2017-09-16 19:57:46,355 : INFO : PROGRESS: at 37.19% examples, 302361 words/s, in_qsize 8, out_qsize 0\n",
      "2017-09-16 19:57:47,363 : INFO : PROGRESS: at 37.67% examples, 302394 words/s, in_qsize 7, out_qsize 0\n",
      "2017-09-16 19:57:48,377 : INFO : PROGRESS: at 38.16% examples, 302493 words/s, in_qsize 8, out_qsize 0\n",
      "2017-09-16 19:57:49,399 : INFO : PROGRESS: at 38.66% examples, 302560 words/s, in_qsize 7, out_qsize 0\n",
      "2017-09-16 19:57:50,421 : INFO : PROGRESS: at 39.17% examples, 302709 words/s, in_qsize 7, out_qsize 0\n",
      "2017-09-16 19:57:51,438 : INFO : PROGRESS: at 39.62% examples, 302536 words/s, in_qsize 7, out_qsize 0\n",
      "2017-09-16 19:57:52,459 : INFO : PROGRESS: at 40.10% examples, 302521 words/s, in_qsize 8, out_qsize 0\n",
      "2017-09-16 19:57:53,488 : INFO : PROGRESS: at 40.57% examples, 302397 words/s, in_qsize 7, out_qsize 0\n",
      "2017-09-16 19:57:54,500 : INFO : PROGRESS: at 41.06% examples, 302491 words/s, in_qsize 7, out_qsize 0\n",
      "2017-09-16 19:57:55,504 : INFO : PROGRESS: at 41.57% examples, 302612 words/s, in_qsize 7, out_qsize 0\n",
      "2017-09-16 19:57:56,538 : INFO : PROGRESS: at 42.04% examples, 302478 words/s, in_qsize 8, out_qsize 0\n",
      "2017-09-16 19:57:57,541 : INFO : PROGRESS: at 42.51% examples, 302448 words/s, in_qsize 8, out_qsize 0\n",
      "2017-09-16 19:57:58,549 : INFO : PROGRESS: at 43.01% examples, 302558 words/s, in_qsize 7, out_qsize 0\n",
      "2017-09-16 19:57:59,564 : INFO : PROGRESS: at 43.48% examples, 302410 words/s, in_qsize 7, out_qsize 0\n",
      "2017-09-16 19:58:00,566 : INFO : PROGRESS: at 43.96% examples, 302452 words/s, in_qsize 8, out_qsize 0\n",
      "2017-09-16 19:58:01,583 : INFO : PROGRESS: at 44.44% examples, 302380 words/s, in_qsize 8, out_qsize 0\n",
      "2017-09-16 19:58:02,592 : INFO : PROGRESS: at 44.93% examples, 302479 words/s, in_qsize 8, out_qsize 0\n",
      "2017-09-16 19:58:03,627 : INFO : PROGRESS: at 45.44% examples, 302562 words/s, in_qsize 7, out_qsize 0\n",
      "2017-09-16 19:58:04,633 : INFO : PROGRESS: at 45.93% examples, 302670 words/s, in_qsize 8, out_qsize 0\n",
      "2017-09-16 19:58:05,652 : INFO : PROGRESS: at 46.44% examples, 302733 words/s, in_qsize 7, out_qsize 0\n",
      "2017-09-16 19:58:06,653 : INFO : PROGRESS: at 46.93% examples, 302843 words/s, in_qsize 7, out_qsize 0\n",
      "2017-09-16 19:58:07,671 : INFO : PROGRESS: at 47.42% examples, 302907 words/s, in_qsize 7, out_qsize 0\n",
      "2017-09-16 19:58:08,672 : INFO : PROGRESS: at 47.89% examples, 302810 words/s, in_qsize 8, out_qsize 0\n",
      "2017-09-16 19:58:09,721 : INFO : PROGRESS: at 48.34% examples, 302569 words/s, in_qsize 7, out_qsize 0\n",
      "2017-09-16 19:58:10,729 : INFO : PROGRESS: at 48.83% examples, 302665 words/s, in_qsize 8, out_qsize 0\n",
      "2017-09-16 19:58:11,742 : INFO : PROGRESS: at 49.32% examples, 302739 words/s, in_qsize 7, out_qsize 0\n",
      "2017-09-16 19:58:12,777 : INFO : PROGRESS: at 49.81% examples, 302751 words/s, in_qsize 8, out_qsize 1\n",
      "2017-09-16 19:58:13,802 : INFO : PROGRESS: at 50.32% examples, 302864 words/s, in_qsize 6, out_qsize 1\n",
      "2017-09-16 19:58:14,805 : INFO : PROGRESS: at 50.80% examples, 302897 words/s, in_qsize 8, out_qsize 0\n",
      "2017-09-16 19:58:15,823 : INFO : PROGRESS: at 51.29% examples, 302950 words/s, in_qsize 8, out_qsize 1\n",
      "2017-09-16 19:58:16,855 : INFO : PROGRESS: at 51.78% examples, 303035 words/s, in_qsize 8, out_qsize 1\n",
      "2017-09-16 19:58:17,867 : INFO : PROGRESS: at 52.28% examples, 303173 words/s, in_qsize 8, out_qsize 0\n",
      "2017-09-16 19:58:18,887 : INFO : PROGRESS: at 52.78% examples, 303219 words/s, in_qsize 7, out_qsize 0\n",
      "2017-09-16 19:58:19,890 : INFO : PROGRESS: at 53.27% examples, 303319 words/s, in_qsize 7, out_qsize 0\n",
      "2017-09-16 19:58:20,929 : INFO : PROGRESS: at 53.77% examples, 303316 words/s, in_qsize 8, out_qsize 0\n",
      "2017-09-16 19:58:21,954 : INFO : PROGRESS: at 54.27% examples, 303413 words/s, in_qsize 6, out_qsize 0\n",
      "2017-09-16 19:58:22,959 : INFO : PROGRESS: at 54.75% examples, 303436 words/s, in_qsize 8, out_qsize 0\n",
      "2017-09-16 19:58:23,966 : INFO : PROGRESS: at 55.24% examples, 303515 words/s, in_qsize 7, out_qsize 0\n",
      "2017-09-16 19:58:24,978 : INFO : PROGRESS: at 55.74% examples, 303579 words/s, in_qsize 8, out_qsize 0\n",
      "2017-09-16 19:58:25,986 : INFO : PROGRESS: at 56.22% examples, 303592 words/s, in_qsize 7, out_qsize 0\n",
      "2017-09-16 19:58:27,006 : INFO : PROGRESS: at 56.71% examples, 303635 words/s, in_qsize 8, out_qsize 0\n",
      "2017-09-16 19:58:28,014 : INFO : PROGRESS: at 57.20% examples, 303707 words/s, in_qsize 7, out_qsize 0\n",
      "2017-09-16 19:58:29,024 : INFO : PROGRESS: at 57.68% examples, 303713 words/s, in_qsize 7, out_qsize 0\n",
      "2017-09-16 19:58:30,033 : INFO : PROGRESS: at 58.15% examples, 303665 words/s, in_qsize 7, out_qsize 0\n",
      "2017-09-16 19:58:31,052 : INFO : PROGRESS: at 58.61% examples, 303533 words/s, in_qsize 8, out_qsize 0\n",
      "2017-09-16 19:58:32,069 : INFO : PROGRESS: at 59.11% examples, 303521 words/s, in_qsize 7, out_qsize 0\n",
      "2017-09-16 19:58:33,107 : INFO : PROGRESS: at 59.57% examples, 303405 words/s, in_qsize 7, out_qsize 0\n",
      "2017-09-16 19:58:34,118 : INFO : PROGRESS: at 60.05% examples, 303413 words/s, in_qsize 8, out_qsize 0\n",
      "2017-09-16 19:58:35,172 : INFO : PROGRESS: at 60.52% examples, 303319 words/s, in_qsize 8, out_qsize 1\n",
      "2017-09-16 19:58:36,181 : INFO : PROGRESS: at 61.02% examples, 303385 words/s, in_qsize 8, out_qsize 0\n",
      "2017-09-16 19:58:37,195 : INFO : PROGRESS: at 61.50% examples, 303326 words/s, in_qsize 7, out_qsize 0\n",
      "2017-09-16 19:58:38,200 : INFO : PROGRESS: at 61.99% examples, 303347 words/s, in_qsize 7, out_qsize 0\n",
      "2017-09-16 19:58:39,220 : INFO : PROGRESS: at 62.46% examples, 303281 words/s, in_qsize 8, out_qsize 1\n",
      "2017-09-16 19:58:40,246 : INFO : PROGRESS: at 62.96% examples, 303310 words/s, in_qsize 8, out_qsize 0\n",
      "2017-09-16 19:58:41,283 : INFO : PROGRESS: at 63.45% examples, 303260 words/s, in_qsize 7, out_qsize 0\n",
      "2017-09-16 19:58:42,284 : INFO : PROGRESS: at 63.92% examples, 303230 words/s, in_qsize 8, out_qsize 0\n",
      "2017-09-16 19:58:43,309 : INFO : PROGRESS: at 64.41% examples, 303208 words/s, in_qsize 8, out_qsize 0\n",
      "2017-09-16 19:58:44,317 : INFO : PROGRESS: at 64.88% examples, 303170 words/s, in_qsize 7, out_qsize 0\n",
      "2017-09-16 19:58:45,356 : INFO : PROGRESS: at 65.35% examples, 303060 words/s, in_qsize 7, out_qsize 1\n",
      "2017-09-16 19:58:46,372 : INFO : PROGRESS: at 65.82% examples, 303005 words/s, in_qsize 7, out_qsize 0\n",
      "2017-09-16 19:58:47,372 : INFO : PROGRESS: at 66.29% examples, 302936 words/s, in_qsize 7, out_qsize 0\n",
      "2017-09-16 19:58:48,384 : INFO : PROGRESS: at 66.78% examples, 302941 words/s, in_qsize 8, out_qsize 0\n",
      "2017-09-16 19:58:49,396 : INFO : PROGRESS: at 67.25% examples, 302896 words/s, in_qsize 7, out_qsize 0\n",
      "2017-09-16 19:58:50,418 : INFO : PROGRESS: at 67.73% examples, 302883 words/s, in_qsize 8, out_qsize 0\n",
      "2017-09-16 19:58:51,432 : INFO : PROGRESS: at 68.20% examples, 302832 words/s, in_qsize 7, out_qsize 0\n",
      "2017-09-16 19:58:52,434 : INFO : PROGRESS: at 68.66% examples, 302813 words/s, in_qsize 7, out_qsize 1\n",
      "2017-09-16 19:58:53,445 : INFO : PROGRESS: at 69.12% examples, 302722 words/s, in_qsize 8, out_qsize 0\n",
      "2017-09-16 19:58:54,455 : INFO : PROGRESS: at 69.59% examples, 302684 words/s, in_qsize 8, out_qsize 1\n",
      "2017-09-16 19:58:55,460 : INFO : PROGRESS: at 70.04% examples, 302610 words/s, in_qsize 7, out_qsize 0\n"
     ]
    },
    {
     "name": "stderr",
     "output_type": "stream",
     "text": [
      "2017-09-16 19:58:56,463 : INFO : PROGRESS: at 70.52% examples, 302592 words/s, in_qsize 7, out_qsize 0\n",
      "2017-09-16 19:58:57,487 : INFO : PROGRESS: at 71.01% examples, 302622 words/s, in_qsize 8, out_qsize 0\n",
      "2017-09-16 19:58:58,492 : INFO : PROGRESS: at 71.48% examples, 302641 words/s, in_qsize 7, out_qsize 0\n",
      "2017-09-16 19:58:59,503 : INFO : PROGRESS: at 71.96% examples, 302654 words/s, in_qsize 7, out_qsize 0\n",
      "2017-09-16 19:59:00,524 : INFO : PROGRESS: at 72.46% examples, 302734 words/s, in_qsize 7, out_qsize 0\n",
      "2017-09-16 19:59:01,533 : INFO : PROGRESS: at 72.91% examples, 302609 words/s, in_qsize 8, out_qsize 0\n",
      "2017-09-16 19:59:02,577 : INFO : PROGRESS: at 73.39% examples, 302553 words/s, in_qsize 8, out_qsize 0\n",
      "2017-09-16 19:59:03,595 : INFO : PROGRESS: at 73.86% examples, 302503 words/s, in_qsize 8, out_qsize 0\n",
      "2017-09-16 19:59:04,621 : INFO : PROGRESS: at 74.33% examples, 302441 words/s, in_qsize 7, out_qsize 0\n",
      "2017-09-16 19:59:05,645 : INFO : PROGRESS: at 74.79% examples, 302335 words/s, in_qsize 8, out_qsize 0\n",
      "2017-09-16 19:59:06,651 : INFO : PROGRESS: at 75.24% examples, 302225 words/s, in_qsize 7, out_qsize 0\n",
      "2017-09-16 19:59:07,672 : INFO : PROGRESS: at 75.71% examples, 302174 words/s, in_qsize 8, out_qsize 0\n",
      "2017-09-16 19:59:08,696 : INFO : PROGRESS: at 76.19% examples, 302117 words/s, in_qsize 6, out_qsize 1\n",
      "2017-09-16 19:59:09,710 : INFO : PROGRESS: at 76.66% examples, 302079 words/s, in_qsize 7, out_qsize 0\n",
      "2017-09-16 19:59:10,730 : INFO : PROGRESS: at 77.14% examples, 302075 words/s, in_qsize 8, out_qsize 0\n",
      "2017-09-16 19:59:11,747 : INFO : PROGRESS: at 77.62% examples, 302078 words/s, in_qsize 8, out_qsize 0\n",
      "2017-09-16 19:59:12,777 : INFO : PROGRESS: at 78.07% examples, 301968 words/s, in_qsize 8, out_qsize 1\n",
      "2017-09-16 19:59:13,814 : INFO : PROGRESS: at 78.57% examples, 301980 words/s, in_qsize 8, out_qsize 0\n",
      "2017-09-16 19:59:14,827 : INFO : PROGRESS: at 79.06% examples, 301988 words/s, in_qsize 7, out_qsize 0\n",
      "2017-09-16 19:59:15,837 : INFO : PROGRESS: at 79.53% examples, 302003 words/s, in_qsize 8, out_qsize 0\n",
      "2017-09-16 19:59:16,848 : INFO : PROGRESS: at 80.01% examples, 302017 words/s, in_qsize 8, out_qsize 1\n",
      "2017-09-16 19:59:17,859 : INFO : PROGRESS: at 80.49% examples, 302028 words/s, in_qsize 8, out_qsize 0\n",
      "2017-09-16 19:59:18,893 : INFO : PROGRESS: at 80.96% examples, 301958 words/s, in_qsize 8, out_qsize 0\n",
      "2017-09-16 19:59:19,894 : INFO : PROGRESS: at 81.43% examples, 301901 words/s, in_qsize 7, out_qsize 0\n",
      "2017-09-16 19:59:20,896 : INFO : PROGRESS: at 81.90% examples, 301892 words/s, in_qsize 7, out_qsize 0\n",
      "2017-09-16 19:59:21,902 : INFO : PROGRESS: at 82.39% examples, 301914 words/s, in_qsize 7, out_qsize 0\n",
      "2017-09-16 19:59:22,958 : INFO : PROGRESS: at 82.88% examples, 301853 words/s, in_qsize 8, out_qsize 1\n",
      "2017-09-16 19:59:23,972 : INFO : PROGRESS: at 83.38% examples, 301903 words/s, in_qsize 8, out_qsize 0\n",
      "2017-09-16 19:59:24,983 : INFO : PROGRESS: at 83.88% examples, 301952 words/s, in_qsize 7, out_qsize 0\n",
      "2017-09-16 19:59:25,990 : INFO : PROGRESS: at 84.33% examples, 301852 words/s, in_qsize 7, out_qsize 0\n",
      "2017-09-16 19:59:27,006 : INFO : PROGRESS: at 84.80% examples, 301818 words/s, in_qsize 8, out_qsize 0\n",
      "2017-09-16 19:59:28,011 : INFO : PROGRESS: at 85.27% examples, 301801 words/s, in_qsize 8, out_qsize 0\n",
      "2017-09-16 19:59:29,034 : INFO : PROGRESS: at 85.74% examples, 301750 words/s, in_qsize 8, out_qsize 0\n",
      "2017-09-16 19:59:30,041 : INFO : PROGRESS: at 86.21% examples, 301691 words/s, in_qsize 7, out_qsize 0\n",
      "2017-09-16 19:59:31,045 : INFO : PROGRESS: at 86.70% examples, 301716 words/s, in_qsize 7, out_qsize 0\n",
      "2017-09-16 19:59:32,047 : INFO : PROGRESS: at 87.18% examples, 301742 words/s, in_qsize 7, out_qsize 0\n",
      "2017-09-16 19:59:33,050 : INFO : PROGRESS: at 87.66% examples, 301770 words/s, in_qsize 7, out_qsize 0\n",
      "2017-09-16 19:59:34,072 : INFO : PROGRESS: at 88.12% examples, 301689 words/s, in_qsize 7, out_qsize 1\n",
      "2017-09-16 19:59:35,080 : INFO : PROGRESS: at 88.61% examples, 301746 words/s, in_qsize 8, out_qsize 0\n",
      "2017-09-16 19:59:36,081 : INFO : PROGRESS: at 89.08% examples, 301736 words/s, in_qsize 7, out_qsize 0\n",
      "2017-09-16 19:59:37,117 : INFO : PROGRESS: at 89.55% examples, 301667 words/s, in_qsize 7, out_qsize 0\n",
      "2017-09-16 19:59:38,164 : INFO : PROGRESS: at 90.03% examples, 301665 words/s, in_qsize 7, out_qsize 0\n",
      "2017-09-16 19:59:39,172 : INFO : PROGRESS: at 90.50% examples, 301607 words/s, in_qsize 7, out_qsize 0\n",
      "2017-09-16 19:59:40,181 : INFO : PROGRESS: at 90.97% examples, 301623 words/s, in_qsize 8, out_qsize 0\n",
      "2017-09-16 19:59:41,188 : INFO : PROGRESS: at 91.45% examples, 301642 words/s, in_qsize 7, out_qsize 0\n",
      "2017-09-16 19:59:42,203 : INFO : PROGRESS: at 91.93% examples, 301686 words/s, in_qsize 8, out_qsize 0\n",
      "2017-09-16 19:59:43,220 : INFO : PROGRESS: at 92.39% examples, 301616 words/s, in_qsize 8, out_qsize 0\n",
      "2017-09-16 19:59:44,254 : INFO : PROGRESS: at 92.88% examples, 301593 words/s, in_qsize 7, out_qsize 0\n",
      "2017-09-16 19:59:45,278 : INFO : PROGRESS: at 93.36% examples, 301587 words/s, in_qsize 8, out_qsize 0\n",
      "2017-09-16 19:59:46,292 : INFO : PROGRESS: at 93.82% examples, 301524 words/s, in_qsize 7, out_qsize 0\n",
      "2017-09-16 19:59:47,307 : INFO : PROGRESS: at 94.29% examples, 301496 words/s, in_qsize 7, out_qsize 0\n",
      "2017-09-16 19:59:48,328 : INFO : PROGRESS: at 94.78% examples, 301535 words/s, in_qsize 7, out_qsize 0\n",
      "2017-09-16 19:59:49,333 : INFO : PROGRESS: at 95.26% examples, 301519 words/s, in_qsize 8, out_qsize 0\n",
      "2017-09-16 19:59:50,338 : INFO : PROGRESS: at 95.72% examples, 301506 words/s, in_qsize 8, out_qsize 1\n",
      "2017-09-16 19:59:51,393 : INFO : PROGRESS: at 96.20% examples, 301419 words/s, in_qsize 6, out_qsize 1\n",
      "2017-09-16 19:59:52,396 : INFO : PROGRESS: at 96.67% examples, 301409 words/s, in_qsize 8, out_qsize 0\n",
      "2017-09-16 19:59:53,426 : INFO : PROGRESS: at 97.15% examples, 301394 words/s, in_qsize 8, out_qsize 0\n",
      "2017-09-16 19:59:54,473 : INFO : PROGRESS: at 97.62% examples, 301318 words/s, in_qsize 8, out_qsize 0\n",
      "2017-09-16 19:59:55,478 : INFO : PROGRESS: at 98.10% examples, 301340 words/s, in_qsize 7, out_qsize 0\n",
      "2017-09-16 19:59:56,480 : INFO : PROGRESS: at 98.57% examples, 301333 words/s, in_qsize 7, out_qsize 0\n",
      "2017-09-16 19:59:57,497 : INFO : PROGRESS: at 99.03% examples, 301270 words/s, in_qsize 7, out_qsize 0\n",
      "2017-09-16 19:59:58,514 : INFO : PROGRESS: at 99.52% examples, 301309 words/s, in_qsize 7, out_qsize 0\n",
      "2017-09-16 19:59:59,481 : INFO : worker thread finished; awaiting finish of 3 more threads\n",
      "2017-09-16 19:59:59,502 : INFO : worker thread finished; awaiting finish of 2 more threads\n",
      "2017-09-16 19:59:59,513 : INFO : worker thread finished; awaiting finish of 1 more threads\n",
      "2017-09-16 19:59:59,535 : INFO : PROGRESS: at 100.00% examples, 301306 words/s, in_qsize 0, out_qsize 1\n",
      "2017-09-16 19:59:59,536 : INFO : worker thread finished; awaiting finish of 0 more threads\n",
      "2017-09-16 19:59:59,540 : INFO : training on 88991350 raw words (63750519 effective words) took 211.6s, 301298 effective words/s\n",
      "2017-09-16 19:59:59,556 : INFO : precomputing L2-norms of word weight vectors\n",
      "2017-09-16 19:59:59,887 : INFO : saving Word2Vec object under 300features_40minwords_10context, separately None\n",
      "2017-09-16 19:59:59,889 : INFO : not storing attribute syn0norm\n",
      "2017-09-16 19:59:59,891 : INFO : not storing attribute cum_table\n",
      "2017-09-16 20:00:11,538 : INFO : saved 300features_40minwords_10context\n"
     ]
    }
   ],
   "source": [
    "import logging\n",
    "logging.basicConfig(format='%(asctime)s : %(levelname)s : %(message)s', level=logging.INFO)\n",
    "\n",
    "# Set values for various parameters\n",
    "num_features = 300    # Word vector dimensionality                      \n",
    "min_word_count = 40   # Minimum word count                        \n",
    "num_workers = 4       # Number of threads to run in parallel\n",
    "context = 10          # Context window size                                                                                    \n",
    "downsampling = 1e-3   # Downsample setting for frequent words\n",
    "\n",
    "#Initialize and train the model\n",
    "from gensim.models import word2vec\n",
    "print('training model..')\n",
    "model = word2vec.Word2Vec(sentences, workers=num_workers, \\\n",
    "            size=num_features, min_count = min_word_count, \\\n",
    "            window = context, sample = downsampling)\n",
    "model.init_sims(replace=True)\n",
    "model_name = \"300features_40minwords_10context\"\n",
    "model.save(model_name)"
   ]
  },
  {
   "cell_type": "code",
   "execution_count": 14,
   "metadata": {},
   "outputs": [
    {
     "name": "stderr",
     "output_type": "stream",
     "text": [
      "2017-09-16 20:31:12,771 : WARNING : vectors for words {'pasta'} are not present in the model, ignoring these words\n"
     ]
    },
    {
     "data": {
      "text/plain": [
       "'cheese'"
      ]
     },
     "execution_count": 14,
     "metadata": {},
     "output_type": "execute_result"
    }
   ],
   "source": [
    "model.doesnt_match(\"pizza pasta cheese gym\".split())"
   ]
  },
  {
   "cell_type": "code",
   "execution_count": 28,
   "metadata": {},
   "outputs": [
    {
     "name": "stderr",
     "output_type": "stream",
     "text": [
      "2017-09-16 20:00:16,032 : INFO : loading Word2Vec object from 300features_40minwords_10context\n",
      "2017-09-16 20:00:25,460 : INFO : loading wv recursively from 300features_40minwords_10context.wv.* with mmap=None\n",
      "2017-09-16 20:00:25,462 : INFO : setting ignored attribute syn0norm to None\n",
      "2017-09-16 20:00:25,466 : INFO : setting ignored attribute cum_table to None\n",
      "2017-09-16 20:00:25,468 : INFO : loaded 300features_40minwords_10context\n"
     ]
    }
   ],
   "source": [
    "from gensim.models import Word2Vec\n",
    "Model = Word2Vec.load(\"300features_40minwords_10context\")"
   ]
  },
  {
   "cell_type": "code",
   "execution_count": 29,
   "metadata": {},
   "outputs": [
    {
     "data": {
      "text/plain": [
       "numpy.ndarray"
      ]
     },
     "execution_count": 29,
     "metadata": {},
     "output_type": "execute_result"
    }
   ],
   "source": [
    "type(Model.syn0_lockf)"
   ]
  },
  {
   "cell_type": "code",
   "execution_count": 33,
   "metadata": {},
   "outputs": [
    {
     "data": {
      "text/plain": [
       "array([ 1.,  1.,  1., ...,  1.,  1.,  1.], dtype=float32)"
      ]
     },
     "execution_count": 33,
     "metadata": {},
     "output_type": "execute_result"
    }
   ],
   "source": [
    "Model.syn0_lockf"
   ]
  },
  {
   "cell_type": "code",
   "execution_count": null,
   "metadata": {
    "collapsed": true
   },
   "outputs": [],
   "source": []
  }
 ],
 "metadata": {
  "kernelspec": {
   "display_name": "Python 3",
   "language": "python",
   "name": "python3"
  },
  "language_info": {
   "codemirror_mode": {
    "name": "ipython",
    "version": 3
   },
   "file_extension": ".py",
   "mimetype": "text/x-python",
   "name": "python",
   "nbconvert_exporter": "python",
   "pygments_lexer": "ipython3",
   "version": "3.6.2"
  }
 },
 "nbformat": 4,
 "nbformat_minor": 2
}
